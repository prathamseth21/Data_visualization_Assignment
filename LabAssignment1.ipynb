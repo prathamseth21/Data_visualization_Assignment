{
 "cells": [
  {
   "cell_type": "code",
   "execution_count": null,
   "id": "a2fa53ff-3a20-4a69-831c-3bc8e5d608e4",
   "metadata": {},
   "outputs": [],
   "source": [
    "# LAB :- 2"
   ]
  },
  {
   "cell_type": "code",
   "execution_count": 3,
   "id": "2d286b3d-3a9a-4491-af43-b6ccb6852e8f",
   "metadata": {},
   "outputs": [
    {
     "name": "stdout",
     "output_type": "stream",
     "text": [
      "The word 'INDIA' occurs 0 times in the file 'India.txt'.\n"
     ]
    }
   ],
   "source": [
    "# Ques:1 Write a program to count the occurence of word 'INDIA' in a text file India.txt\n",
    "\n",
    "\n",
    "def count_occurrences(filename, word):\n",
    "    count = 0\n",
    "    with open(filename, \"r\") as file:\n",
    "        for line in file:\n",
    "            count += line.upper().count(word)\n",
    "    return count\n",
    "\n",
    "filename = \"India.txt\"\n",
    "word = \"INDIA\"\n",
    "\n",
    "occurrences = count_occurrences(filename, word)\n",
    "print(f\"The word '{word}' occurs {occurrences} times in the file '{filename}'.\")\n"
   ]
  },
  {
   "cell_type": "code",
   "execution_count": 7,
   "id": "307f932b-cd9b-4656-88cd-4f63e3646a0e",
   "metadata": {},
   "outputs": [
    {
     "name": "stdout",
     "output_type": "stream",
     "text": [
      "Number of lines starting with 'T': 1\n",
      "Lines starting with 'T':\n",
      "The SEI-CMM (Software Engineering Institute's Capability Maturity Model) is a framework used to assess and improve the maturity of an organization's software development processes. It consists of five maturity levels, ranging from initial (level 1) to optimizing (level 5), each representing increasingly sophisticated and disciplined approaches to software development. The model helps organizations identify strengths and weaknesses in their processes and provides a roadmap for improvement.\n"
     ]
    }
   ],
   "source": [
    "# Ques:2 Write a program to count and display the lines starting with 'T' in a text file story.txt\n",
    "\n",
    "def count_and_display_lines_starting_with_T(filename):\n",
    "    count = 0\n",
    "    lines_starting_with_T = []\n",
    "\n",
    "   \n",
    "    with open(filename, \"r\") as file:\n",
    "        for line in file:\n",
    "            # Check if the line starts with 'T'\n",
    "            if line.startswith('T'):\n",
    "                count += 1\n",
    "                lines_starting_with_T.append(line.strip())\n",
    "\n",
    "    print(f\"Number of lines starting with 'T': {count}\")\n",
    "    print(\"Lines starting with 'T':\")\n",
    "    for line in lines_starting_with_T:\n",
    "        print(line)\n",
    "\n",
    "filename = \"story.txt\"\n",
    "\n",
    "count_and_display_lines_starting_with_T(filename)\n",
    "\n"
   ]
  },
  {
   "cell_type": "code",
   "execution_count": 9,
   "id": "13b946a7-bd0f-41d8-806f-96c138490786",
   "metadata": {},
   "outputs": [
    {
     "name": "stdout",
     "output_type": "stream",
     "text": [
      "Number of vowels: 157\n",
      "Number of consonants: 255\n"
     ]
    }
   ],
   "source": [
    "#Ques:3 Write a program to count and display number of vowels and consonants in a file 'Myfile.txt'\n",
    "\n",
    "def count_vowels_and_consonants(filename):\n",
    "    vowels = \"AEIOUaeiou\"\n",
    "    vowel_count = 0\n",
    "    consonant_count = 0\n",
    "\n",
    "    with open(filename, \"r\") as file:\n",
    "        content = file.read()\n",
    "        \n",
    "        for char in content:\n",
    "            if char.isalpha():  \n",
    "                if char in vowels:\n",
    "                    vowel_count += 1\n",
    "                else:\n",
    "                    consonant_count += 1\n",
    "\n",
    "\n",
    "    print(f\"Number of vowels: {vowel_count}\")\n",
    "    print(f\"Number of consonants: {consonant_count}\")\n",
    "\n",
    "filename = \"Myfile.txt\"\n",
    "\n",
    "count_vowels_and_consonants(filename)\n"
   ]
  },
  {
   "cell_type": "code",
   "execution_count": 11,
   "id": "3f342f05-c104-4924-85ed-31534451208a",
   "metadata": {},
   "outputs": [
    {
     "name": "stdout",
     "output_type": "stream",
     "text": [
      "Number of words in 'Notes.txt': 66\n"
     ]
    }
   ],
   "source": [
    "#Ques:4 Write a program to count and display number of words in a txet file Notes.txt\n",
    "\n",
    "def count_words(filename):\n",
    "    word_count = 0\n",
    "\n",
    "    with open(filename, \"r\") as file:\n",
    "        content = file.read()\n",
    "\n",
    "        words = content.split()\n",
    "\n",
    "        word_count = len(words)\n",
    "\n",
    "    print(f\"Number of words in '{filename}': {word_count}\")\n",
    "\n",
    "filename = \"Notes.txt\"\n",
    "\n",
    "count_words(filename)\n"
   ]
  },
  {
   "cell_type": "code",
   "execution_count": 17,
   "id": "3fcd4f3e-46de-43d5-8ff4-57c0367934b4",
   "metadata": {},
   "outputs": [
    {
     "name": "stdin",
     "output_type": "stream",
     "text": [
      "Enter roll number:  978338\n",
      "Enter name:  xyz sehsk\n",
      "Enter marks:  455.7\n",
      "Do you want to add another student? (y/n):  yes\n"
     ]
    }
   ],
   "source": [
    "#Ques:5 Write a program to create a binary file 'Stu.dat' and Enter students rollno. Name and Marks till the user wants.\n",
    "\n",
    "import struct\n",
    "\n",
    "def write_student_data(filename):\n",
    "    with open(filename, \"wb\") as file:\n",
    "        while True:\n",
    "            rollno = input(\"Enter roll number: \")\n",
    "            name = input(\"Enter name: \")\n",
    "            marks = float(input(\"Enter marks: \"))\n",
    "\n",
    "            data = struct.pack('i50sf', int(rollno), name.encode(), marks)\n",
    "            file.write(data)\n",
    "\n",
    "            cont = input(\"Do you want to add another student? (y/n): \")\n",
    "            if cont.lower() != 'y':\n",
    "                break\n",
    "\n",
    "filename = \"Stu.dat\"\n",
    "\n",
    "write_student_data(filename)\n"
   ]
  },
  {
   "cell_type": "code",
   "execution_count": 19,
   "id": "2adb22a3-0124-438d-b428-8ae96328141c",
   "metadata": {},
   "outputs": [
    {
     "name": "stdout",
     "output_type": "stream",
     "text": [
      "Students with marks greater than 81:\n",
      "Roll No: 978338, Name: xyz sehsk, Marks: 455.70001220703125\n"
     ]
    }
   ],
   "source": [
    "#Ques:- Write a program to read a binary file 'Stu.dat' and display the record of students having marks greater than 81.\n",
    "\n",
    "import struct\n",
    "\n",
    "def read_student_data(filename):\n",
    "    students_with_high_marks = []\n",
    "    \n",
    "    record_format = 'i50sf'\n",
    "    record_size = struct.calcsize(record_format)\n",
    "\n",
    "    with open(filename, \"rb\") as file:\n",
    "        while True:\n",
    "            record = file.read(record_size)\n",
    "            if not record:\n",
    "                break\n",
    "            \n",
    "            rollno, name, marks = struct.unpack(record_format, record)\n",
    "            name = name.decode().strip('\\x00')  \n",
    "\n",
    "            if marks > 81:\n",
    "                students_with_high_marks.append((rollno, name, marks))\n",
    "    \n",
    "    print(\"Students with marks greater than 81:\")\n",
    "    for rollno, name, marks in students_with_high_marks:\n",
    "        print(f\"Roll No: {rollno}, Name: {name}, Marks: {marks}\")\n",
    "\n",
    "filename = \"Stu.dat\"\n",
    "\n",
    "read_student_data(filename)\n"
   ]
  },
  {
   "cell_type": "code",
   "execution_count": null,
   "id": "7d976302-5ee1-4cc9-b512-b3af2afdb940",
   "metadata": {},
   "outputs": [],
   "source": []
  }
 ],
 "metadata": {
  "kernelspec": {
   "display_name": "Python 3 (ipykernel)",
   "language": "python",
   "name": "python3"
  },
  "language_info": {
   "codemirror_mode": {
    "name": "ipython",
    "version": 3
   },
   "file_extension": ".py",
   "mimetype": "text/x-python",
   "name": "python",
   "nbconvert_exporter": "python",
   "pygments_lexer": "ipython3",
   "version": "3.12.4"
  }
 },
 "nbformat": 4,
 "nbformat_minor": 5
}
