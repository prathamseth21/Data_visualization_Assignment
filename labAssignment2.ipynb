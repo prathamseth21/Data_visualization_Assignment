{
 "cells": [
  {
   "cell_type": "code",
   "execution_count": 1,
   "id": "d40a9b2b-a9ef-4b9d-a7e5-08701927c331",
   "metadata": {},
   "outputs": [
    {
     "name": "stdout",
     "output_type": "stream",
     "text": [
      "{\n",
      " \"cells\": [],\n",
      " \"metadata\": {},\n",
      " \"nbformat\": 4,\n",
      " \"nbformat_minor\": 5\n",
      "}\n"
     ]
    }
   ],
   "source": [
    "#Ques:1 Write a function in python to read the content from a text 'ABC.txt' line by line and display the same on screen.\n",
    "\n",
    "def read_and_display_file(filename):\n",
    "    try:\n",
    "        with open(filename, 'r') as file:\n",
    "            for line in file:\n",
    "                print(line, end='')  \n",
    "    except FileNotFoundError:\n",
    "        print(f\"The file {filename} does not exist.\")\n",
    "    except Exception as e:\n",
    "        print(f\"An error occurred: {e}\")\n",
    "\n",
    "read_and_display_file('ABC.txt')\n"
   ]
  },
  {
   "cell_type": "code",
   "execution_count": 5,
   "id": "ddecfed2-0d37-48d9-beb4-fa080ea09b34",
   "metadata": {},
   "outputs": [
    {
     "name": "stdout",
     "output_type": "stream",
     "text": [
      "Total number of words in ABC.txt: 10\n"
     ]
    }
   ],
   "source": [
    "#Ques:2 Write a function in Python to count and display the total number of words in a text file 'ABC.txt'.\n",
    "\n",
    "def count_words_in_file(filename):\n",
    "    try:\n",
    "        with open(filename, 'r') as file:\n",
    "            text = file.read()\n",
    "            words = text.split()\n",
    "            total_words = len(words)\n",
    "            print(f\"Total number of words in {filename}: {total_words}\")\n",
    "    except FileNotFoundError:\n",
    "        print(f\"The file {filename} does not exist.\")\n",
    "    except Exception as e:\n",
    "        print(f\"An error occurred: {e}\")\n",
    "\n",
    "count_words_in_file('ABC.txt')\n"
   ]
  },
  {
   "cell_type": "code",
   "execution_count": 7,
   "id": "a956e0ce-4ee4-4cf5-b08a-a675973b317a",
   "metadata": {},
   "outputs": [
    {
     "name": "stdout",
     "output_type": "stream",
     "text": [
      "Total number of uppercase characters in ABC.txt: 0\n"
     ]
    }
   ],
   "source": [
    "#Ques:3 Write a function in python to count uppercase character in a text file 'ABC.txt'.\n",
    "\n",
    "def count_uppercase_characters(filename):\n",
    "    try:\n",
    "        with open(filename, 'r') as file:\n",
    "            text = file.read()\n",
    "            uppercase_count = sum(1 for char in text if char.isupper())\n",
    "            print(f\"Total number of uppercase characters in {filename}: {uppercase_count}\")\n",
    "    except FileNotFoundError:\n",
    "        print(f\"The file {filename} does not exist.\")\n",
    "    except Exception as e:\n",
    "        print(f\"An error occurred: {e}\")\n",
    "\n",
    "count_uppercase_characters('ABC.txt')\n"
   ]
  },
  {
   "cell_type": "code",
   "execution_count": 9,
   "id": "b78d5fa8-62b9-4c53-a773-84ac4309ecc1",
   "metadata": {},
   "outputs": [
    {
     "name": "stdout",
     "output_type": "stream",
     "text": [
      "The\n",
      "is\n",
      "a\n",
      "to\n",
      "and\n",
      "the\n",
      "of\n",
      "an\n",
      "It\n",
      "of\n",
      "1)\n",
      "to\n",
      "5),\n",
      "and\n",
      "to\n",
      "The\n",
      "and\n",
      "in\n",
      "and\n",
      "a\n",
      "for\n"
     ]
    }
   ],
   "source": [
    "#Ques:4 Write a function display_words() in python to read lines from a text file 'story.txt', and dispaly those words, which are less than 4 characters.\n",
    "\n",
    "def display_words(filename):\n",
    "    try:\n",
    "        with open(filename, 'r') as file:\n",
    "            for line in file:\n",
    "                words = line.split()\n",
    "                short_words = [word for word in words if len(word) < 4]\n",
    "                for word in short_words:\n",
    "                    print(word)\n",
    "    except FileNotFoundError:\n",
    "        print(f\"The file {filename} does not exist.\")\n",
    "    except Exception as e:\n",
    "        print(f\"An error occurred: {e}\")\n",
    "\n",
    "display_words('story.txt')\n"
   ]
  },
  {
   "cell_type": "code",
   "execution_count": null,
   "id": "676955d3-5cf8-4298-b4ce-36fcb44ee773",
   "metadata": {},
   "outputs": [],
   "source": []
  }
 ],
 "metadata": {
  "kernelspec": {
   "display_name": "Python 3 (ipykernel)",
   "language": "python",
   "name": "python3"
  },
  "language_info": {
   "codemirror_mode": {
    "name": "ipython",
    "version": 3
   },
   "file_extension": ".py",
   "mimetype": "text/x-python",
   "name": "python",
   "nbconvert_exporter": "python",
   "pygments_lexer": "ipython3",
   "version": "3.12.4"
  }
 },
 "nbformat": 4,
 "nbformat_minor": 5
}
