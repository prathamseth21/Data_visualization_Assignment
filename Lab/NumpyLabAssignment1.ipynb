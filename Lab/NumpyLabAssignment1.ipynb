{
 "cells": [
  {
   "cell_type": "code",
   "execution_count": null,
   "id": "600b7898-4c53-4343-b114-0e745114ad02",
   "metadata": {},
   "outputs": [],
   "source": [
    "#   NUMPY LAB ASSIGNMENT:-1"
   ]
  },
  {
   "cell_type": "code",
   "execution_count": 3,
   "id": "a698a356-a75c-4900-ba9f-f5490606308c",
   "metadata": {},
   "outputs": [
    {
     "name": "stdout",
     "output_type": "stream",
     "text": [
      "[1 2 3 4 5]\n"
     ]
    }
   ],
   "source": [
    "#Ques:1 \n",
    "\n",
    "\n",
    "import numpy as np\n",
    "\n",
    "my_list = [1,2,3,4,5]\n",
    "my_array = np.array(my_list)\n",
    "print(my_array)"
   ]
  },
  {
   "cell_type": "code",
   "execution_count": 5,
   "id": "b5dc5346-228c-4c1e-8844-2e270153d9b5",
   "metadata": {},
   "outputs": [
    {
     "name": "stdout",
     "output_type": "stream",
     "text": [
      "Array:\n",
      "[1 2 3 4 5]\n",
      "First element: 1\n",
      "Last element: 5\n",
      "Array after multiplying each element by 2:\n",
      "[ 2  4  6  8 10]\n"
     ]
    }
   ],
   "source": [
    "#Ques:2 Convert the below list into a numpy array then display the array then display the first and last index and then multiply each element by 2 and display the result.\n",
    "\n",
    "import numpy as np\n",
    "\n",
    "my_list = [1, 2, 3, 4, 5]\n",
    "array = np.array(my_list)\n",
    "\n",
    "print(\"Array:\")\n",
    "print(array)\n",
    "\n",
    "print(\"First element:\", array[0])\n",
    "print(\"Last element:\", array[-1])\n",
    "\n",
    "multiplied_array = array * 2\n",
    "print(\"Array after multiplying each element by 2:\")\n",
    "print(multiplied_array)\n"
   ]
  },
  {
   "cell_type": "code",
   "execution_count": 7,
   "id": "49cf6f22-7a9e-49ad-bde6-371b3153333f",
   "metadata": {},
   "outputs": [
    {
     "name": "stdout",
     "output_type": "stream",
     "text": [
      "Array of 10 zeros:\n",
      "[0. 0. 0. 0. 0. 0. 0. 0. 0. 0.]\n",
      "\n",
      "Array of 10 ones:\n",
      "[1. 1. 1. 1. 1. 1. 1. 1. 1. 1.]\n",
      "\n",
      "Array of 10 fives:\n",
      "[5 5 5 5 5 5 5 5 5 5]\n"
     ]
    }
   ],
   "source": [
    "#Ques:3 Working with Numpy using Jupyter.\n",
    "   # part(1) Write a Numpy program to create\n",
    "\n",
    "import numpy as np\n",
    "\n",
    "zeros_array = np.zeros(10)\n",
    "ones_array = np.ones(10)\n",
    "fives_array = np.full(10, 5)\n",
    "\n",
    "print(\"Array of 10 zeros:\")\n",
    "print(zeros_array)\n",
    "print(\"\\nArray of 10 ones:\")\n",
    "print(ones_array)\n",
    "print(\"\\nArray of 10 fives:\")\n",
    "print(fives_array)"
   ]
  },
  {
   "cell_type": "code",
   "execution_count": null,
   "id": "6bb1612a-181a-438a-9c4e-6693ace7c003",
   "metadata": {},
   "outputs": [],
   "source": []
  }
 ],
 "metadata": {
  "kernelspec": {
   "display_name": "Python 3 (ipykernel)",
   "language": "python",
   "name": "python3"
  },
  "language_info": {
   "codemirror_mode": {
    "name": "ipython",
    "version": 3
   },
   "file_extension": ".py",
   "mimetype": "text/x-python",
   "name": "python",
   "nbconvert_exporter": "python",
   "pygments_lexer": "ipython3",
   "version": "3.12.4"
  }
 },
 "nbformat": 4,
 "nbformat_minor": 5
}
